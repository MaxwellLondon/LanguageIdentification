{
  "nbformat": 4,
  "nbformat_minor": 0,
  "metadata": {
    "colab": {
      "provenance": []
    },
    "kernelspec": {
      "name": "python3",
      "display_name": "Python 3"
    },
    "language_info": {
      "name": "python"
    }
  },
  "cells": [
    {
      "cell_type": "code",
      "execution_count": 41,
      "metadata": {
        "id": "EvjKHmCP_X1S"
      },
      "outputs": [],
      "source": [
        "import numpy as np\n",
        "import pandas as pd\n",
        "import tensorflow as tf\n",
        "from tensorflow import keras\n",
        "from tensorflow.keras import layers"
      ]
    },
    {
      "cell_type": "code",
      "source": [
        "!pwd"
      ],
      "metadata": {
        "colab": {
          "base_uri": "https://localhost:8080/"
        },
        "id": "AGO2gvaaFUYc",
        "outputId": "2a499ef9-c344-40b0-b521-17d09464fce8"
      },
      "execution_count": 42,
      "outputs": [
        {
          "output_type": "stream",
          "name": "stdout",
          "text": [
            "/content\n"
          ]
        }
      ]
    },
    {
      "cell_type": "code",
      "source": [
        "import os\n",
        "import zipfile\n",
        "import re\n",
        "\n",
        "# Un zip and define training data (sample because of colab restrictions)\n",
        "with zipfile.ZipFile('train_sample.zip', 'r') as zip_ref:\n",
        "    zip_ref.extractall('training')\n",
        "\n",
        "# training directory\n",
        "training_directory = './training'\n",
        "\n",
        "# Define the regular expression pattern for the file names\n",
        "pattern = r'_([A-Z]{2})-'\n",
        "\n",
        "# Load the training data\n",
        "train_images = []\n",
        "train_labels = []\n",
        "for image_file in os.listdir(training_directory):\n",
        "    if image_file.endswith('.jpg'):\n",
        "        image_path = os.path.join(training_directory, image_file)\n",
        "        lang = re.search(pattern, image_file).group(1)\n",
        "        train_images.append(image_path)\n",
        "        train_labels.append(lang)\n",
        "\n",
        "# validation directory \n",
        "validation_directory = './validation_real'\n",
        "\n",
        "# Load the validation data\n",
        "val_images = []\n",
        "val_labels = []\n",
        "for image_file in os.listdir(validation_directory):\n",
        "    if image_file.endswith('.jpg'):\n",
        "        image_path = os.path.join(validation_directory, image_file)\n",
        "        lang = re.search(pattern, image_file).group(1)\n",
        "        val_images.append(image_path)\n",
        "        val_labels.append(lang)\n"
      ],
      "metadata": {
        "id": "QjEXxEvyDVlh"
      },
      "execution_count": 43,
      "outputs": []
    },
    {
      "cell_type": "code",
      "source": [
        "from PIL import Image\n",
        "\n",
        "# Define the target image size\n",
        "image_size = (128, 128)  \n",
        "\n",
        "# Preprocess the training images\n",
        "train_images_preprocessed = []\n",
        "for image_path in train_images:\n",
        "    image = Image.open(image_path).convert('L')  # Convert to grayscale\n",
        "    image = image.resize(image_size)  # Resize\n",
        "    image = np.array(image) / 255.0  # Normalize pixel values\n",
        "    train_images_preprocessed.append(image)\n",
        "\n",
        "# Preprocess the validation images\n",
        "val_images_preprocessed = []\n",
        "for image_path in val_images:\n",
        "    image = Image.open(image_path).convert('L')  # Convert to grayscale\n",
        "    image = image.resize(image_size)  # Resize\n",
        "    image = np.array(image) / 255.0  # Normalize pixel values\n",
        "    val_images_preprocessed.append(image)"
      ],
      "metadata": {
        "id": "7VXVwLXEEjws"
      },
      "execution_count": 44,
      "outputs": []
    },
    {
      "cell_type": "code",
      "source": [
        "from sklearn.preprocessing import LabelEncoder\n",
        "\n",
        "# Perform label encoding for training labels\n",
        "label_encoder = LabelEncoder()\n",
        "train_labels_encoded = label_encoder.fit_transform(train_labels)\n",
        "\n",
        "# Perform label encoding for validation labels\n",
        "val_labels_encoded = label_encoder.transform(val_labels)"
      ],
      "metadata": {
        "id": "QfwxFjCbGLwj"
      },
      "execution_count": 45,
      "outputs": []
    },
    {
      "cell_type": "code",
      "source": [
        "num_classes = 5\n",
        "\n",
        "model = keras.Sequential([\n",
        "    layers.Conv2D(32, (3, 3), activation='relu', input_shape=(image_size[0], image_size[1], 1)),\n",
        "    layers.MaxPooling2D((2, 2)),\n",
        "    layers.Conv2D(64, (3, 3), activation='relu'),\n",
        "    layers.MaxPooling2D((2, 2)),\n",
        "    layers.Flatten(),\n",
        "    layers.Dense(64, activation='relu'),\n",
        "    layers.Dense(num_classes, activation='softmax')\n",
        "])\n",
        "\n",
        "model.compile(optimizer='adam', loss='sparse_categorical_crossentropy', metrics=['accuracy'])\n",
        "\n",
        "model.summary()"
      ],
      "metadata": {
        "id": "I28Qt6srG3va",
        "colab": {
          "base_uri": "https://localhost:8080/"
        },
        "outputId": "a52595c2-e4ca-4be5-997d-0d9f1949c2b5"
      },
      "execution_count": 46,
      "outputs": [
        {
          "output_type": "stream",
          "name": "stdout",
          "text": [
            "Model: \"sequential_4\"\n",
            "_________________________________________________________________\n",
            " Layer (type)                Output Shape              Param #   \n",
            "=================================================================\n",
            " conv2d_8 (Conv2D)           (None, 126, 126, 32)      320       \n",
            "                                                                 \n",
            " max_pooling2d_8 (MaxPooling  (None, 63, 63, 32)       0         \n",
            " 2D)                                                             \n",
            "                                                                 \n",
            " conv2d_9 (Conv2D)           (None, 61, 61, 64)        18496     \n",
            "                                                                 \n",
            " max_pooling2d_9 (MaxPooling  (None, 30, 30, 64)       0         \n",
            " 2D)                                                             \n",
            "                                                                 \n",
            " flatten_4 (Flatten)         (None, 57600)             0         \n",
            "                                                                 \n",
            " dense_8 (Dense)             (None, 64)                3686464   \n",
            "                                                                 \n",
            " dense_9 (Dense)             (None, 5)                 325       \n",
            "                                                                 \n",
            "=================================================================\n",
            "Total params: 3,705,605\n",
            "Trainable params: 3,705,605\n",
            "Non-trainable params: 0\n",
            "_________________________________________________________________\n"
          ]
        }
      ]
    },
    {
      "cell_type": "code",
      "source": [
        "# Convert the preprocessed data to NumPy arrays\n",
        "train_images_preprocessed = np.array(train_images_preprocessed)\n",
        "val_images_preprocessed = np.array(val_images_preprocessed)\n",
        "\n",
        "# Add a channel dimension to the image data\n",
        "train_images_preprocessed = np.expand_dims(train_images_preprocessed, axis=-1)\n",
        "val_images_preprocessed = np.expand_dims(val_images_preprocessed, axis=-1)\n",
        "\n",
        "# Train the model\n",
        "history = model.fit(train_images_preprocessed, train_labels_encoded, epochs=10, batch_size=32, validation_data=(val_images_preprocessed, val_labels_encoded))\n"
      ],
      "metadata": {
        "id": "l3AquvGTHAAE",
        "colab": {
          "base_uri": "https://localhost:8080/"
        },
        "outputId": "10487b23-71e1-4d74-9aee-b061e659f5d8"
      },
      "execution_count": 47,
      "outputs": [
        {
          "output_type": "stream",
          "name": "stdout",
          "text": [
            "Epoch 1/10\n",
            "249/249 [==============================] - 281s 1s/step - loss: 0.6612 - accuracy: 0.7653 - val_loss: 0.3222 - val_accuracy: 0.8976\n",
            "Epoch 2/10\n",
            "249/249 [==============================] - 279s 1s/step - loss: 0.2705 - accuracy: 0.9062 - val_loss: 0.2944 - val_accuracy: 0.8966\n",
            "Epoch 3/10\n",
            "249/249 [==============================] - 278s 1s/step - loss: 0.2289 - accuracy: 0.9185 - val_loss: 0.2346 - val_accuracy: 0.9179\n",
            "Epoch 4/10\n",
            "249/249 [==============================] - 278s 1s/step - loss: 0.2025 - accuracy: 0.9275 - val_loss: 0.2483 - val_accuracy: 0.9140\n",
            "Epoch 5/10\n",
            "249/249 [==============================] - 279s 1s/step - loss: 0.1681 - accuracy: 0.9370 - val_loss: 0.2021 - val_accuracy: 0.9285\n",
            "Epoch 6/10\n",
            "249/249 [==============================] - 290s 1s/step - loss: 0.1400 - accuracy: 0.9485 - val_loss: 0.2053 - val_accuracy: 0.9280\n",
            "Epoch 7/10\n",
            "249/249 [==============================] - 251s 1s/step - loss: 0.1130 - accuracy: 0.9588 - val_loss: 0.1910 - val_accuracy: 0.9350\n",
            "Epoch 8/10\n",
            "249/249 [==============================] - 250s 1s/step - loss: 0.0823 - accuracy: 0.9701 - val_loss: 0.2197 - val_accuracy: 0.9252\n",
            "Epoch 9/10\n",
            "249/249 [==============================] - 287s 1s/step - loss: 0.0514 - accuracy: 0.9831 - val_loss: 0.1802 - val_accuracy: 0.9435\n",
            "Epoch 10/10\n",
            "249/249 [==============================] - 242s 974ms/step - loss: 0.0390 - accuracy: 0.9872 - val_loss: 0.2120 - val_accuracy: 0.9351\n"
          ]
        }
      ]
    },
    {
      "cell_type": "code",
      "source": [
        "# Evaluate the model on the validation data\n",
        "val_loss, val_accuracy = model.evaluate(val_images_preprocessed, val_labels_encoded)\n",
        "print(\"Validation Loss:\", val_loss)\n",
        "print(\"Validation Accuracy:\", val_accuracy)\n",
        "\n",
        "# Optionally, evaluate the model on test data\n",
        "# test_images_preprocessed = ...  # Preprocess the test images similarly to training and validation data\n",
        "# test_labels_encoded = ...  # Encode the test labels similarly to training and validation labels\n",
        "# test_loss, test_accuracy = model.evaluate(test_images_preprocessed, test_labels_encoded)\n",
        "# print(\"Test Loss:\", test_loss)\n",
        "# print(\"Test Accuracy:\", test_accuracy)\n"
      ],
      "metadata": {
        "id": "H-hwf0zLHFJa",
        "colab": {
          "base_uri": "https://localhost:8080/",
          "height": 383
        },
        "outputId": "8484da55-9f71-4f2b-e778-3f9b8071e3f0"
      },
      "execution_count": 48,
      "outputs": [
        {
          "output_type": "stream",
          "name": "stdout",
          "text": [
            "249/249 [==============================] - 52s 209ms/step - loss: 0.2120 - accuracy: 0.9351\n"
          ]
        },
        {
          "output_type": "error",
          "ename": "KeyboardInterrupt",
          "evalue": "ignored",
          "traceback": [
            "\u001b[0;31m---------------------------------------------------------------------------\u001b[0m",
            "\u001b[0;31mKeyboardInterrupt\u001b[0m                         Traceback (most recent call last)",
            "\u001b[0;32m<ipython-input-48-53f91a718398>\u001b[0m in \u001b[0;36m<cell line: 2>\u001b[0;34m()\u001b[0m\n\u001b[1;32m      1\u001b[0m \u001b[0;31m# Evaluate the model on the validation data\u001b[0m\u001b[0;34m\u001b[0m\u001b[0;34m\u001b[0m\u001b[0m\n\u001b[0;32m----> 2\u001b[0;31m \u001b[0mval_loss\u001b[0m\u001b[0;34m,\u001b[0m \u001b[0mval_accuracy\u001b[0m \u001b[0;34m=\u001b[0m \u001b[0mmodel\u001b[0m\u001b[0;34m.\u001b[0m\u001b[0mevaluate\u001b[0m\u001b[0;34m(\u001b[0m\u001b[0mval_images_preprocessed\u001b[0m\u001b[0;34m,\u001b[0m \u001b[0mval_labels_encoded\u001b[0m\u001b[0;34m)\u001b[0m\u001b[0;34m\u001b[0m\u001b[0;34m\u001b[0m\u001b[0m\n\u001b[0m\u001b[1;32m      3\u001b[0m \u001b[0mprint\u001b[0m\u001b[0;34m(\u001b[0m\u001b[0;34m\"Validation Loss:\"\u001b[0m\u001b[0;34m,\u001b[0m \u001b[0mval_loss\u001b[0m\u001b[0;34m)\u001b[0m\u001b[0;34m\u001b[0m\u001b[0;34m\u001b[0m\u001b[0m\n\u001b[1;32m      4\u001b[0m \u001b[0mprint\u001b[0m\u001b[0;34m(\u001b[0m\u001b[0;34m\"Validation Accuracy:\"\u001b[0m\u001b[0;34m,\u001b[0m \u001b[0mval_accuracy\u001b[0m\u001b[0;34m)\u001b[0m\u001b[0;34m\u001b[0m\u001b[0;34m\u001b[0m\u001b[0m\n\u001b[1;32m      5\u001b[0m \u001b[0;34m\u001b[0m\u001b[0m\n",
            "\u001b[0;32m/usr/local/lib/python3.10/dist-packages/keras/utils/traceback_utils.py\u001b[0m in \u001b[0;36merror_handler\u001b[0;34m(*args, **kwargs)\u001b[0m\n\u001b[1;32m     63\u001b[0m         \u001b[0mfiltered_tb\u001b[0m \u001b[0;34m=\u001b[0m \u001b[0;32mNone\u001b[0m\u001b[0;34m\u001b[0m\u001b[0;34m\u001b[0m\u001b[0m\n\u001b[1;32m     64\u001b[0m         \u001b[0;32mtry\u001b[0m\u001b[0;34m:\u001b[0m\u001b[0;34m\u001b[0m\u001b[0;34m\u001b[0m\u001b[0m\n\u001b[0;32m---> 65\u001b[0;31m             \u001b[0;32mreturn\u001b[0m \u001b[0mfn\u001b[0m\u001b[0;34m(\u001b[0m\u001b[0;34m*\u001b[0m\u001b[0margs\u001b[0m\u001b[0;34m,\u001b[0m \u001b[0;34m**\u001b[0m\u001b[0mkwargs\u001b[0m\u001b[0;34m)\u001b[0m\u001b[0;34m\u001b[0m\u001b[0;34m\u001b[0m\u001b[0m\n\u001b[0m\u001b[1;32m     66\u001b[0m         \u001b[0;32mexcept\u001b[0m \u001b[0mException\u001b[0m \u001b[0;32mas\u001b[0m \u001b[0me\u001b[0m\u001b[0;34m:\u001b[0m\u001b[0;34m\u001b[0m\u001b[0;34m\u001b[0m\u001b[0m\n\u001b[1;32m     67\u001b[0m             \u001b[0mfiltered_tb\u001b[0m \u001b[0;34m=\u001b[0m \u001b[0m_process_traceback_frames\u001b[0m\u001b[0;34m(\u001b[0m\u001b[0me\u001b[0m\u001b[0;34m.\u001b[0m\u001b[0m__traceback__\u001b[0m\u001b[0;34m)\u001b[0m\u001b[0;34m\u001b[0m\u001b[0;34m\u001b[0m\u001b[0m\n",
            "\u001b[0;31mKeyboardInterrupt\u001b[0m: "
          ]
        }
      ]
    },
    {
      "cell_type": "code",
      "source": [
        "model.summary()\n",
        "\n",
        "# Print the model parameters\n",
        "model_params = model.count_params()\n",
        "print(\"Total Model Parameters:\", model_params)"
      ],
      "metadata": {
        "colab": {
          "base_uri": "https://localhost:8080/"
        },
        "id": "-iJzQ6KeTsXN",
        "outputId": "d901b15c-f343-484b-dd4b-7f82659bfb02"
      },
      "execution_count": 49,
      "outputs": [
        {
          "output_type": "stream",
          "name": "stdout",
          "text": [
            "Model: \"sequential_4\"\n",
            "_________________________________________________________________\n",
            " Layer (type)                Output Shape              Param #   \n",
            "=================================================================\n",
            " conv2d_8 (Conv2D)           (None, 126, 126, 32)      320       \n",
            "                                                                 \n",
            " max_pooling2d_8 (MaxPooling  (None, 63, 63, 32)       0         \n",
            " 2D)                                                             \n",
            "                                                                 \n",
            " conv2d_9 (Conv2D)           (None, 61, 61, 64)        18496     \n",
            "                                                                 \n",
            " max_pooling2d_9 (MaxPooling  (None, 30, 30, 64)       0         \n",
            " 2D)                                                             \n",
            "                                                                 \n",
            " flatten_4 (Flatten)         (None, 57600)             0         \n",
            "                                                                 \n",
            " dense_8 (Dense)             (None, 64)                3686464   \n",
            "                                                                 \n",
            " dense_9 (Dense)             (None, 5)                 325       \n",
            "                                                                 \n",
            "=================================================================\n",
            "Total params: 3,705,605\n",
            "Trainable params: 3,705,605\n",
            "Non-trainable params: 0\n",
            "_________________________________________________________________\n",
            "Total Model Parameters: 3705605\n"
          ]
        }
      ]
    },
    {
      "cell_type": "code",
      "source": [
        "import numpy as np\n",
        "from sklearn.metrics import confusion_matrix\n",
        "import matplotlib.pyplot as plt\n",
        "import seaborn as sns\n",
        "\n",
        "# Make predictions on the validation data\n",
        "val_predictions = model.predict(val_images_preprocessed)\n",
        "val_predictions_encoded = np.argmax(val_predictions, axis=1)\n",
        "\n",
        "# Generate confusion matrix\n",
        "cm = confusion_matrix(val_labels_encoded, val_predictions_encoded)\n",
        "\n",
        "# Get class labels from the label encoder\n",
        "class_labels = label_encoder.classes_\n",
        "\n",
        "# Plot the confusion matrix\n",
        "plt.figure(figsize=(5, 5))\n",
        "sns.heatmap(cm, annot=True, fmt='d', cmap='Blues', xticklabels=class_labels, yticklabels=class_labels)\n",
        "plt.title('Confusion Matrix')\n",
        "plt.xlabel('Predicted Labels')\n",
        "plt.ylabel('True Labels')\n",
        "plt.show()\n"
      ],
      "metadata": {
        "colab": {
          "base_uri": "https://localhost:8080/",
          "height": 487
        },
        "id": "pWDncTSeVE89",
        "outputId": "c589f095-59dd-4aa6-8662-4367e8625007"
      },
      "execution_count": 52,
      "outputs": [
        {
          "output_type": "display_data",
          "data": {
            "text/plain": [
              "<Figure size 500x500 with 2 Axes>"
            ],
            "image/png": "[encoded data removed]"
          },
          "metadata": {}
        }
      ]
    },
    {
      "cell_type": "markdown",
      "source": [
        "Data Preparation:\n",
        "To begin libaries such as numpy, pandas, tensorflow, and keras, are imported. Modules for file handling and image processing are included. The training data is stored in a zip file named 'train_sample.zip,' which is extracted into a directory called 'training.' I had to take a sample of the dataset to get this to work on google colab. A regular expression pattern is defined to extract language labels from the image file names.\n",
        "\n",
        "Loading Training and Validation Data:\n",
        "The code iterates through the training and validation datasets and reads the .jpg files, and extracts the language labels with regex. The image paths and corresponding labels are stored in separate lists.\n",
        "\n",
        "Preprocessing Images:\n",
        "To prepare the training and validation images for the CNN model, the PIL library is used. The images are converted to grayscale (just in case), resized to a target size of 128x128 pixels (in order to avoid memory issues on colab), and normalized by dividing the pixel values by 255.0 to scale them between 0 and 1. The preprocessed images are stored in separate lists.\n",
        "\n",
        "Label Encoding:\n",
        "Label encoding from sklearn is used on the training and validation labels. This encoding assigns unique integer values to each language based on their occurrence in the dataset.\n",
        "\n",
        "Model Architecture:\n",
        "The NN model is defined using the Keras Sequential API. It consists of two convolutional layers with ReLU activation, followed by max pooling layers for downsampling. The output is then flattened and passed through two fully connected (dense) layers with ReLU activation. The final output layer uses the softmax activation function to obtain class probabilities.\n",
        "\n",
        "Data Preparation for Training:\n",
        "The image data vectors are converted to NumPy arrays.\n",
        "\n",
        "Model Training:\n",
        "Overall training seems to be a success. The runtime was relatively slow on google colab. An input size of 128x128 with 10 epochs took about 45 minutes to run but the accurcy was almost 93 percent. \n",
        "\n",
        "Model Evaluation:\n",
        "The model was somewhat accurate given the limitations of the dataset. There were almsot the same amount of values in the training vs validation becuase of the limitations of colab but overall the model was impressive given the scale. There were about 3,700,000 parameters in the model. It seems that distinguishing english and danish was the most difficult for the model. \n",
        "\n"
      ],
      "metadata": {
        "id": "aLKvH583RWfG"
      }
    },
    {
      "cell_type": "code",
      "source": [],
      "metadata": {
        "id": "DePwKSKMUbpf"
      },
      "execution_count": null,
      "outputs": []
    }
  ]
}